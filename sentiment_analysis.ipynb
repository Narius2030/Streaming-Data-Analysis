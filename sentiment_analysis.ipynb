{
 "cells": [
  {
   "cell_type": "code",
   "execution_count": 1,
   "metadata": {},
   "outputs": [],
   "source": [
    "from pyspark.sql import SparkSession\n",
    "from pyspark.sql.types import StructType, StringType, IntegerType \n",
    "from pyspark.sql.functions import *\n",
    "from pyspark.ml.feature import StringIndexer, HashingTF, IDF,Tokenizer, StopWordsRemover\n",
    "from pyspark.ml.classification import DecisionTreeClassifier, MultilayerPerceptronClassifier, RandomForestClassifier\n",
    "from pyspark.ml.evaluation import MulticlassClassificationEvaluator\n",
    "from pyspark.ml import Pipeline\n",
    "from preprocessing import TransformText, CleanText\n",
    "import pandas as pd"
   ]
  },
  {
   "cell_type": "markdown",
   "metadata": {},
   "source": [
    "# Import Data"
   ]
  },
  {
   "cell_type": "code",
   "execution_count": 2,
   "metadata": {},
   "outputs": [],
   "source": [
    "spark = SparkSession.builder.master(\"local[1]\") \\\n",
    "        .appName(\"Sentiment Spark Training\") \\\n",
    "        .getOrCreate()\n",
    "        \n",
    "schema = StructType() \\\n",
    "        .add(\"tweet_id\", IntegerType(), False) \\\n",
    "        .add(\"entity\", StringType(), True) \\\n",
    "        .add(\"sentiment\", StringType(), True)  \\\n",
    "        .add(\"content\", StringType(), True)\n",
    "        \n",
    "tweets = spark.read.option(\"header\", True) \\\n",
    "        .schema(schema) \\\n",
    "        .csv(\"./data/twitter_training.csv\")\n",
    "tweets = tweets.withColumn('content', when(isnull(col('content')), \"\") \\\n",
    "                .otherwise(col('content')))"
   ]
  },
  {
   "cell_type": "code",
   "execution_count": 3,
   "metadata": {},
   "outputs": [
    {
     "name": "stdout",
     "output_type": "stream",
     "text": [
      "root\n",
      " |-- tweet_id: integer (nullable = true)\n",
      " |-- entity: string (nullable = true)\n",
      " |-- sentiment: string (nullable = true)\n",
      " |-- content: string (nullable = true)\n",
      "\n",
      "+--------+-----------+---------+--------------------+\n",
      "|tweet_id|     entity|sentiment|             content|\n",
      "+--------+-----------+---------+--------------------+\n",
      "|    2401|Borderlands| Positive|I am coming to th...|\n",
      "|    2401|Borderlands| Positive|im getting on bor...|\n",
      "|    2401|Borderlands| Positive|im coming on bord...|\n",
      "|    2401|Borderlands| Positive|im getting on bor...|\n",
      "|    2401|Borderlands| Positive|im getting into b...|\n",
      "+--------+-----------+---------+--------------------+\n",
      "only showing top 5 rows\n",
      "\n"
     ]
    }
   ],
   "source": [
    "tweets.printSchema()\n",
    "tweets.show(5)"
   ]
  },
  {
   "cell_type": "code",
   "execution_count": 4,
   "metadata": {},
   "outputs": [
    {
     "name": "stdout",
     "output_type": "stream",
     "text": [
      "Total of tweets:   74681\n",
      "Total of unique entities:   32\n",
      "Total of unique sentiments:   4\n",
      "+----------+\n",
      "| sentiment|\n",
      "+----------+\n",
      "|Irrelevant|\n",
      "|  Positive|\n",
      "|   Neutral|\n",
      "|  Negative|\n",
      "+----------+\n",
      "\n",
      "None\n"
     ]
    }
   ],
   "source": [
    "print(\"Total of tweets:  \", tweets.count())\n",
    "print(\"Total of unique entities:  \", tweets.select('entity').distinct().count())\n",
    "print(\"Total of unique sentiments:  \", tweets.select('sentiment').distinct().count())\n",
    "print(tweets.select('sentiment').distinct().show())"
   ]
  },
  {
   "cell_type": "markdown",
   "metadata": {},
   "source": [
    "# Transform Data"
   ]
  },
  {
   "cell_type": "code",
   "execution_count": 5,
   "metadata": {},
   "outputs": [
    {
     "name": "stdout",
     "output_type": "stream",
     "text": [
      "Row(tweet_id=2401, entity='Borderlands', sentiment='Positive', content='im getting on borderlands and i will kill you all,', tokens=['im', 'getting', 'on', 'borderlands', 'and', 'i', 'will', 'kill', 'you', 'all,'])\n"
     ]
    }
   ],
   "source": [
    "stopwords = []\n",
    "with open(file='./data/stopword_en.txt', mode='r') as file:\n",
    "    try:\n",
    "        stopwords = file.readlines()\n",
    "        for idx, word in enumerate(stopwords):\n",
    "            stopwords[idx] = word[:len(word)-1:]\n",
    "    except Exception as ex:\n",
    "        print(ex)\n",
    "tweets = tweets.withColumn('tokens', split('content', ' '))\n",
    "print(tweets.collect()[1])"
   ]
  },
  {
   "cell_type": "code",
   "execution_count": 6,
   "metadata": {},
   "outputs": [],
   "source": [
    "remover = StopWordsRemover(stopWords=stopwords, inputCol=\"tokens\", outputCol=\"stop\")\n",
    "outputcols = ['tweet_id','entity','sentiment']\n",
    "temp = remover.transform(tweets).select(*outputcols, \n",
    "                                        array_join(\"stop\", \" \").alias(\"content\"))"
   ]
  },
  {
   "cell_type": "code",
   "execution_count": 7,
   "metadata": {},
   "outputs": [],
   "source": [
    "temp = temp.withColumn(\n",
    "    'cleaned_content', \n",
    "    translate('content', '!\"#$%&\\'()*+,-./:;<=>?@[\\\\]^_{|}~', '')\n",
    ")\n",
    "temp = temp.withColumn(\n",
    "    \"cleaned_content\",\n",
    "    regexp_replace(regexp_replace(\"cleaned_content\", \"[^\\x00-\\x7F]+\", \"\"), '\"\"', '')\n",
    ")\n",
    "temp = temp.withColumn(\n",
    "    \"cleaned_content\",\n",
    "    lower(\"cleaned_content\")\n",
    ")\n",
    "cleaned_tweets = temp.drop('content')"
   ]
  },
  {
   "cell_type": "code",
   "execution_count": 8,
   "metadata": {},
   "outputs": [
    {
     "data": {
      "text/plain": [
       "Row(tweet_id=2421, entity='Borderlands', sentiment='Positive', cleaned_content='finally played borderlands 3 actual game great almost weapons feel funny never felt like grind hand say much looking forward eventual sequence skip')"
      ]
     },
     "execution_count": 8,
     "metadata": {},
     "output_type": "execute_result"
    }
   ],
   "source": [
    "cleaned_tweets.collect()[120]"
   ]
  },
  {
   "cell_type": "code",
   "execution_count": 9,
   "metadata": {},
   "outputs": [
    {
     "name": "stdout",
     "output_type": "stream",
     "text": [
      "+---------------+-----+\n",
      "|sentiment_label|count|\n",
      "+---------------+-----+\n",
      "|            0.0|22542|\n",
      "|            1.0|20831|\n",
      "|            3.0|12990|\n",
      "|            2.0|18318|\n",
      "+---------------+-----+\n",
      "\n",
      "None\n"
     ]
    }
   ],
   "source": [
    "encoder = StringIndexer(inputCol='sentiment', outputCol='sentiment_label').fit(cleaned_tweets)\n",
    "encoded_tweets = encoder.transform(cleaned_tweets)\n",
    "\n",
    "print(encoded_tweets.groupBy('sentiment_label').count().show())"
   ]
  },
  {
   "cell_type": "code",
   "execution_count": 10,
   "metadata": {},
   "outputs": [],
   "source": [
    "tokenizer = Tokenizer(inputCol='cleaned_content', outputCol='words')\n",
    "tokenized_tweets = tokenizer.transform(encoded_tweets)\n",
    "\n",
    "hashingTF = HashingTF(inputCol=\"words\", outputCol=\"raw_features\", numFeatures=20)\n",
    "featurized_data = hashingTF.transform(tokenized_tweets)"
   ]
  },
  {
   "cell_type": "code",
   "execution_count": 11,
   "metadata": {},
   "outputs": [],
   "source": [
    "idf = IDF(inputCol=\"raw_features\", outputCol=\"features\").fit(featurized_data)\n",
    "tfidf_tweets = idf.transform(featurized_data)\n",
    "tweets_train = tfidf_tweets.select('sentiment_label','features')"
   ]
  },
  {
   "cell_type": "code",
   "execution_count": 12,
   "metadata": {},
   "outputs": [
    {
     "name": "stdout",
     "output_type": "stream",
     "text": [
      "root\n",
      " |-- sentiment_label: double (nullable = false)\n",
      " |-- features: vector (nullable = true)\n",
      "\n",
      "None\n",
      "+---------------+--------------------+\n",
      "|sentiment_label|            features|\n",
      "+---------------+--------------------+\n",
      "|            1.0|(20,[1,6,9,12],[1...|\n",
      "|            1.0|(20,[0,6,12],[0.8...|\n",
      "|            1.0|(20,[9,11,12],[1....|\n",
      "|            1.0|(20,[0,11,12],[0....|\n",
      "|            1.0|(20,[0,11,12],[0....|\n",
      "+---------------+--------------------+\n",
      "only showing top 5 rows\n",
      "\n",
      "None\n"
     ]
    }
   ],
   "source": [
    "print(tweets_train.printSchema())\n",
    "print(tweets_train.show(5))"
   ]
  },
  {
   "cell_type": "markdown",
   "metadata": {},
   "source": [
    "# Train model"
   ]
  },
  {
   "cell_type": "code",
   "execution_count": 13,
   "metadata": {},
   "outputs": [],
   "source": [
    "# dt = DecisionTreeClassifier(labelCol=\"sentiment_label\", featuresCol=\"features\", maxDepth=20, impurity='gini')\n",
    "rf = RandomForestClassifier(labelCol=\"sentiment_label\", featuresCol=\"features\", numTrees=50, maxDepth=10)\n",
    "\n",
    "# layers = [20, 10, 10, 32, 10, 4]\n",
    "# trainer = MultilayerPerceptronClassifier(labelCol=\"sentiment_label\", maxIter=100, layers=layers, blockSize=32, seed=1234)\n",
    "\n",
    "model = rf.fit(tweets_train)"
   ]
  },
  {
   "cell_type": "markdown",
   "metadata": {},
   "source": [
    "# Predict and Evaluate"
   ]
  },
  {
   "cell_type": "code",
   "execution_count": 14,
   "metadata": {},
   "outputs": [],
   "source": [
    "evaluator = MulticlassClassificationEvaluator(\n",
    "    labelCol=\"sentiment_label\", metricName=\"accuracy\")"
   ]
  },
  {
   "cell_type": "markdown",
   "metadata": {},
   "source": [
    "- Evaluate Training dataset"
   ]
  },
  {
   "cell_type": "code",
   "execution_count": 15,
   "metadata": {},
   "outputs": [],
   "source": [
    "predictions = model.transform(tweets_train)\n",
    "predictions = predictions.select('sentiment_label','prediction')"
   ]
  },
  {
   "cell_type": "code",
   "execution_count": 16,
   "metadata": {},
   "outputs": [
    {
     "name": "stdout",
     "output_type": "stream",
     "text": [
      "root\n",
      " |-- sentiment_label: double (nullable = false)\n",
      " |-- prediction: double (nullable = false)\n",
      "\n"
     ]
    }
   ],
   "source": [
    "predictions.printSchema()"
   ]
  },
  {
   "cell_type": "code",
   "execution_count": 17,
   "metadata": {},
   "outputs": [
    {
     "name": "stdout",
     "output_type": "stream",
     "text": [
      "Test Error = 0.53999 \n",
      "Test Accuracy = 0.46001 \n"
     ]
    }
   ],
   "source": [
    "accuracy = evaluator.evaluate(predictions)\n",
    "print(\"Test Error = %g \" %(1.0 - accuracy))\n",
    "print(\"Test Accuracy = %g \" %accuracy)"
   ]
  },
  {
   "cell_type": "markdown",
   "metadata": {},
   "source": [
    "- Evaluate Testing dataset"
   ]
  },
  {
   "cell_type": "code",
   "execution_count": 18,
   "metadata": {},
   "outputs": [],
   "source": [
    "transformer = TransformText('sentiment', 'cleaned_content')\n",
    "data = transformer.data_loader(schema, spark, \"./data/twitter_validation.csv\")"
   ]
  },
  {
   "cell_type": "code",
   "execution_count": 19,
   "metadata": {},
   "outputs": [
    {
     "name": "stdout",
     "output_type": "stream",
     "text": [
      "root\n",
      " |-- tweet_id: integer (nullable = true)\n",
      " |-- entity: string (nullable = true)\n",
      " |-- sentiment: string (nullable = true)\n",
      " |-- content: string (nullable = true)\n",
      "\n",
      "None\n"
     ]
    }
   ],
   "source": [
    "print(data.printSchema())"
   ]
  },
  {
   "cell_type": "code",
   "execution_count": 20,
   "metadata": {},
   "outputs": [],
   "source": [
    "outputCols = ['tweet_id','entity','sentiment']\n",
    "target = 'content'\n",
    "\n",
    "cleaner = CleanText(outputCols, target)\n",
    "cleaned_tweets = cleaner.transform(data)"
   ]
  },
  {
   "cell_type": "code",
   "execution_count": 21,
   "metadata": {},
   "outputs": [
    {
     "data": {
      "text/plain": [
       "Row(tweet_id=2600, entity='Borderlands', sentiment='Positive', content='want thank #SSKYWILDKATSSS letting run new Borderlands 3 DLC last night. lot fun!', cleaned_content='want thank sskywildkatsss letting run new borderlands 3 dlc last night lot fun')"
      ]
     },
     "execution_count": 21,
     "metadata": {},
     "output_type": "execute_result"
    }
   ],
   "source": [
    "cleaned_tweets.collect()[120]"
   ]
  },
  {
   "cell_type": "code",
   "execution_count": 22,
   "metadata": {},
   "outputs": [
    {
     "name": "stdout",
     "output_type": "stream",
     "text": [
      "+---------------+-----+\n",
      "|sentiment_label|count|\n",
      "+---------------+-----+\n",
      "|            0.0|  188|\n",
      "|            1.0|  172|\n",
      "|            3.0|  110|\n",
      "|            2.0|  168|\n",
      "+---------------+-----+\n",
      "\n",
      "None\n",
      "root\n",
      " |-- tweet_id: integer (nullable = true)\n",
      " |-- entity: string (nullable = true)\n",
      " |-- sentiment: string (nullable = true)\n",
      " |-- content: string (nullable = true)\n",
      " |-- cleaned_content: string (nullable = true)\n",
      " |-- sentiment_label: double (nullable = false)\n",
      " |-- words: array (nullable = true)\n",
      " |    |-- element: string (containsNull = true)\n",
      " |-- raw_features: vector (nullable = true)\n",
      " |-- features: vector (nullable = true)\n",
      "\n",
      "None\n"
     ]
    }
   ],
   "source": [
    "tweets_test = transformer.transform(cleaned_tweets)\n",
    "print(tweets_test.printSchema())"
   ]
  },
  {
   "cell_type": "code",
   "execution_count": 23,
   "metadata": {},
   "outputs": [],
   "source": [
    "tweets_test = tweets_test.select(['sentiment_label','features'])"
   ]
  },
  {
   "cell_type": "code",
   "execution_count": 24,
   "metadata": {},
   "outputs": [],
   "source": [
    "predictions = model.transform(tweets_test)\n",
    "predictions = predictions.select(['sentiment_label','prediction'])"
   ]
  },
  {
   "cell_type": "code",
   "execution_count": 25,
   "metadata": {},
   "outputs": [
    {
     "name": "stdout",
     "output_type": "stream",
     "text": [
      "+---------------+----------+\n",
      "|sentiment_label|prediction|\n",
      "+---------------+----------+\n",
      "|            0.0|       0.0|\n",
      "|            3.0|       0.0|\n",
      "|            2.0|       0.0|\n",
      "|            1.0|       1.0|\n",
      "|            1.0|       0.0|\n",
      "|            3.0|       0.0|\n",
      "|            0.0|       0.0|\n",
      "|            3.0|       0.0|\n",
      "|            1.0|       1.0|\n",
      "|            0.0|       2.0|\n",
      "+---------------+----------+\n",
      "only showing top 10 rows\n",
      "\n"
     ]
    }
   ],
   "source": [
    "predictions.show(10)"
   ]
  },
  {
   "cell_type": "code",
   "execution_count": 26,
   "metadata": {},
   "outputs": [
    {
     "name": "stdout",
     "output_type": "stream",
     "text": [
      "Test Error = 0.68652 \n",
      "Test Accuracy = 0.31348 \n"
     ]
    }
   ],
   "source": [
    "accuracy = evaluator.evaluate(predictions)\n",
    "print(\"Test Error = %g \" %(1.0 - accuracy))\n",
    "print(\"Test Accuracy = %g \" %accuracy)"
   ]
  },
  {
   "cell_type": "code",
   "execution_count": null,
   "metadata": {},
   "outputs": [],
   "source": []
  }
 ],
 "metadata": {
  "kernelspec": {
   "display_name": ".venv",
   "language": "python",
   "name": "python3"
  },
  "language_info": {
   "codemirror_mode": {
    "name": "ipython",
    "version": 3
   },
   "file_extension": ".py",
   "mimetype": "text/x-python",
   "name": "python",
   "nbconvert_exporter": "python",
   "pygments_lexer": "ipython3",
   "version": "3.11.1"
  }
 },
 "nbformat": 4,
 "nbformat_minor": 2
}
