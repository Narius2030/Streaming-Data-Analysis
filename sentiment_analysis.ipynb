{
 "cells": [
  {
   "cell_type": "code",
   "execution_count": 1,
   "metadata": {},
   "outputs": [],
   "source": [
    "from pyspark.sql import SparkSession\n",
    "from pyspark.sql.types import StructType, StringType, IntegerType \n",
    "from pyspark.sql.functions import *\n",
    "from pyspark.ml.feature import StringIndexer, HashingTF, IDF,Tokenizer, VectorIndexer, StopWordsRemover,VectorAssembler\n",
    "from pyspark.ml.classification import DecisionTreeClassifier\n",
    "from pyspark.ml.evaluation import MulticlassClassificationEvaluator\n",
    "from pyspark.ml import Pipeline\n",
    "from preprocessing import TransformText, CleanText\n",
    "import pandas as pd"
   ]
  },
  {
   "cell_type": "markdown",
   "metadata": {},
   "source": [
    "# Import Data"
   ]
  },
  {
   "cell_type": "code",
   "execution_count": 2,
   "metadata": {},
   "outputs": [],
   "source": [
    "spark = SparkSession.builder.master(\"local[1]\") \\\n",
    "        .appName(\"Sentiment Spark Training\") \\\n",
    "        .getOrCreate()\n",
    "        \n",
    "schema = StructType() \\\n",
    "        .add(\"tweet_id\", IntegerType(), False) \\\n",
    "        .add(\"entity\", StringType(), True) \\\n",
    "        .add(\"sentiment\", StringType(), True)  \\\n",
    "        .add(\"content\", StringType(), True)\n",
    "        \n",
    "tweets = spark.read.option(\"header\", True) \\\n",
    "        .schema(schema) \\\n",
    "        .csv(\"./data/twitter_training.csv\")\n",
    "cleaned_tweets = tweets.withColumn('content', when(isnull(col('content')), \"\") \\\n",
    "                .otherwise(col('content')))"
   ]
  },
  {
   "cell_type": "code",
   "execution_count": 3,
   "metadata": {},
   "outputs": [
    {
     "name": "stdout",
     "output_type": "stream",
     "text": [
      "root\n",
      " |-- tweet_id: integer (nullable = true)\n",
      " |-- entity: string (nullable = true)\n",
      " |-- sentiment: string (nullable = true)\n",
      " |-- content: string (nullable = true)\n",
      "\n",
      "+--------+-----------+---------+--------------------+\n",
      "|tweet_id|     entity|sentiment|             content|\n",
      "+--------+-----------+---------+--------------------+\n",
      "|    2401|Borderlands| Positive|I am coming to th...|\n",
      "|    2401|Borderlands| Positive|im getting on bor...|\n",
      "|    2401|Borderlands| Positive|im coming on bord...|\n",
      "|    2401|Borderlands| Positive|im getting on bor...|\n",
      "|    2401|Borderlands| Positive|im getting into b...|\n",
      "+--------+-----------+---------+--------------------+\n",
      "only showing top 5 rows\n",
      "\n"
     ]
    }
   ],
   "source": [
    "cleaned_tweets.printSchema()\n",
    "cleaned_tweets.show(5)"
   ]
  },
  {
   "cell_type": "code",
   "execution_count": 4,
   "metadata": {},
   "outputs": [
    {
     "name": "stdout",
     "output_type": "stream",
     "text": [
      "Total of tweets:   74681\n",
      "Total of unique entities:   32\n",
      "Total of unique sentiments:   4\n",
      "+----------+\n",
      "| sentiment|\n",
      "+----------+\n",
      "|Irrelevant|\n",
      "|  Positive|\n",
      "|   Neutral|\n",
      "|  Negative|\n",
      "+----------+\n",
      "\n",
      "None\n"
     ]
    }
   ],
   "source": [
    "print(\"Total of tweets:  \", cleaned_tweets.count())\n",
    "print(\"Total of unique entities:  \", cleaned_tweets.select('entity').distinct().count())\n",
    "print(\"Total of unique sentiments:  \", cleaned_tweets.select('sentiment').distinct().count())\n",
    "print(cleaned_tweets.select('sentiment').distinct().show())"
   ]
  },
  {
   "cell_type": "markdown",
   "metadata": {},
   "source": [
    "# Transform Data"
   ]
  },
  {
   "cell_type": "code",
   "execution_count": 5,
   "metadata": {},
   "outputs": [
    {
     "name": "stdout",
     "output_type": "stream",
     "text": [
      "+---------------+-----+\n",
      "|sentiment_label|count|\n",
      "+---------------+-----+\n",
      "|            0.0|22542|\n",
      "|            1.0|20831|\n",
      "|            3.0|12990|\n",
      "|            2.0|18318|\n",
      "+---------------+-----+\n",
      "\n",
      "None\n"
     ]
    }
   ],
   "source": [
    "encoder = StringIndexer(inputCol='sentiment', outputCol='sentiment_label').fit(cleaned_tweets)\n",
    "tweets = encoder.transform(cleaned_tweets)\n",
    "\n",
    "print(tweets.groupBy('sentiment_label').count().show())"
   ]
  },
  {
   "cell_type": "code",
   "execution_count": 6,
   "metadata": {},
   "outputs": [
    {
     "name": "stdout",
     "output_type": "stream",
     "text": [
      "Row(tweet_id=2401, entity='Borderlands', sentiment='Positive', content='im getting on borderlands and i will kill you all,', sentiment_label=1.0, tokens=['im', 'getting', 'on', 'borderlands', 'and', 'i', 'will', 'kill', 'you', 'all,'])\n"
     ]
    }
   ],
   "source": [
    "stopwords = []\n",
    "with open(file='./data/stopword_en.txt', mode='r') as file:\n",
    "    try:\n",
    "        stopwords = file.readlines()\n",
    "        for idx, word in enumerate(stopwords):\n",
    "            stopwords[idx] = word[:len(word)-1:]\n",
    "    except Exception as ex:\n",
    "        print(ex)\n",
    "tweets = tweets.withColumn('tokens', split('content', ' '))\n",
    "print(tweets.collect()[1])"
   ]
  },
  {
   "cell_type": "code",
   "execution_count": 7,
   "metadata": {},
   "outputs": [],
   "source": [
    "remover = StopWordsRemover(stopWords=stopwords, inputCol=\"tokens\", outputCol=\"stop\")\n",
    "outputcols = ['tweet_id','entity','sentiment','sentiment_label']\n",
    "temp = remover.transform(tweets).select(*outputcols, \n",
    "                                        array_join(\"stop\", \" \").alias(\"content\"))"
   ]
  },
  {
   "cell_type": "code",
   "execution_count": 8,
   "metadata": {},
   "outputs": [],
   "source": [
    "temp = temp.withColumn(\n",
    "    'cleaned_content', \n",
    "    translate('content', '!\"#$%&\\'()*+,-./:;<=>?@[\\\\]^_{|}~', '')\n",
    ")\n",
    "temp = temp.withColumn(\n",
    "    \"cleaned_content\",\n",
    "    regexp_replace(regexp_replace(\"cleaned_content\", \"[^\\x00-\\x7F]+\", \"\"), '\"\"', '')\n",
    ")\n",
    "cleaned_tweets = temp.drop('content')"
   ]
  },
  {
   "cell_type": "code",
   "execution_count": 9,
   "metadata": {},
   "outputs": [
    {
     "data": {
      "text/plain": [
       "Row(tweet_id=11106, entity='TomClancysGhostRecon', sentiment='Positive', sentiment_label=1.0, cleaned_content='See  song Im talking smh Tryna play head work ugh gotta wait ')"
      ]
     },
     "execution_count": 9,
     "metadata": {},
     "output_type": "execute_result"
    }
   ],
   "source": [
    "cleaned_tweets.collect()[71840]"
   ]
  },
  {
   "cell_type": "code",
   "execution_count": 10,
   "metadata": {},
   "outputs": [],
   "source": [
    "tokenizer = Tokenizer(inputCol='cleaned_content', outputCol='words')\n",
    "tokenized_tweets = tokenizer.transform(cleaned_tweets)\n",
    "\n",
    "hashingTF = HashingTF(inputCol=\"words\", outputCol=\"raw_features\", numFeatures=20)\n",
    "featurized_data = hashingTF.transform(tokenized_tweets)"
   ]
  },
  {
   "cell_type": "code",
   "execution_count": 11,
   "metadata": {},
   "outputs": [],
   "source": [
    "idf = IDF(inputCol=\"raw_features\", outputCol=\"features\").fit(featurized_data)\n",
    "tfidf_tweets = idf.transform(featurized_data).select(['sentiment_label', 'features'])\n",
    "tweets_train = tfidf_tweets.select('sentiment_label','features')"
   ]
  },
  {
   "cell_type": "code",
   "execution_count": 12,
   "metadata": {},
   "outputs": [
    {
     "name": "stdout",
     "output_type": "stream",
     "text": [
      "root\n",
      " |-- sentiment_label: double (nullable = false)\n",
      " |-- features: vector (nullable = true)\n",
      "\n",
      "None\n",
      "+---------------+--------------------+\n",
      "|sentiment_label|            features|\n",
      "+---------------+--------------------+\n",
      "|            1.0|(20,[1,6,9,12],[1...|\n",
      "|            1.0|(20,[0,6,12],[0.8...|\n",
      "|            1.0|(20,[9,11,12],[1....|\n",
      "|            1.0|(20,[0,11,12],[0....|\n",
      "|            1.0|(20,[0,11,12],[0....|\n",
      "+---------------+--------------------+\n",
      "only showing top 5 rows\n",
      "\n",
      "None\n"
     ]
    }
   ],
   "source": [
    "print(tweets_train.printSchema())\n",
    "print(tweets_train.show(5))"
   ]
  },
  {
   "cell_type": "markdown",
   "metadata": {},
   "source": [
    "# Train model"
   ]
  },
  {
   "cell_type": "code",
   "execution_count": 13,
   "metadata": {},
   "outputs": [],
   "source": [
    "dt = DecisionTreeClassifier(labelCol=\"sentiment_label\", featuresCol=\"features\", maxDepth=20, impurity='gini')\n",
    "model = dt.fit(tweets_train)"
   ]
  },
  {
   "cell_type": "code",
   "execution_count": 14,
   "metadata": {},
   "outputs": [],
   "source": [
    "predictions = model.transform(tweets_train)\n",
    "predictions = predictions.select(['sentiment_label','prediction'])"
   ]
  },
  {
   "cell_type": "markdown",
   "metadata": {},
   "source": [
    "# Predict and Evaluate"
   ]
  },
  {
   "cell_type": "markdown",
   "metadata": {},
   "source": [
    "- Evaluate Training dataset"
   ]
  },
  {
   "cell_type": "code",
   "execution_count": 15,
   "metadata": {},
   "outputs": [],
   "source": [
    "evaluator = MulticlassClassificationEvaluator(\n",
    "    labelCol=\"sentiment_label\", predictionCol=\"prediction\", metricName=\"accuracy\")"
   ]
  },
  {
   "cell_type": "code",
   "execution_count": 16,
   "metadata": {},
   "outputs": [
    {
     "name": "stdout",
     "output_type": "stream",
     "text": [
      "Test Error = 0.225921 \n",
      "Test Accuracy = 0.774079 \n"
     ]
    }
   ],
   "source": [
    "accuracy = evaluator.evaluate(predictions)\n",
    "print(\"Test Error = %g \" %(1.0 - accuracy))\n",
    "print(\"Test Accuracy = %g \" %accuracy)"
   ]
  },
  {
   "cell_type": "markdown",
   "metadata": {},
   "source": [
    "- Evaluate Testing dataset"
   ]
  },
  {
   "cell_type": "code",
   "execution_count": 17,
   "metadata": {},
   "outputs": [],
   "source": [
    "transformer = TransformText('sentiment', 'cleaned_content')\n",
    "data = transformer.data_loader(schema, spark, \"./data/twitter_validation.csv\")\n",
    "cleaned_tweets = data.withColumn('content', when(isnull(col('content')), \"\").otherwise(col('content')))"
   ]
  },
  {
   "cell_type": "code",
   "execution_count": 18,
   "metadata": {},
   "outputs": [
    {
     "name": "stdout",
     "output_type": "stream",
     "text": [
      "+--------+---------------+----------+--------------------+\n",
      "|tweet_id|         entity| sentiment|             content|\n",
      "+--------+---------------+----------+--------------------+\n",
      "|     921| AssassinsCreed|   Neutral|Get ready for the...|\n",
      "|    4367|          CS-GO|Irrelevant|friendship ended ...|\n",
      "|    7446|LeagueOfLegends|  Negative|My League of Lege...|\n",
      "|    5417|    Hearthstone|  Positive|Hey guys, I just ...|\n",
      "|    4650|         Google|  Positive|It's great that b...|\n",
      "+--------+---------------+----------+--------------------+\n",
      "only showing top 5 rows\n",
      "\n"
     ]
    }
   ],
   "source": [
    "cleaned_tweets.show(5)"
   ]
  },
  {
   "cell_type": "code",
   "execution_count": 19,
   "metadata": {},
   "outputs": [],
   "source": [
    "outputCols = ['tweet_id','entity','sentiment']\n",
    "target = 'content'\n",
    "\n",
    "cleaner = CleanText(outputCols)\n",
    "cleaned_tweets = cleaner.transform(cleaned_tweets)"
   ]
  },
  {
   "cell_type": "code",
   "execution_count": 20,
   "metadata": {},
   "outputs": [
    {
     "data": {
      "text/plain": [
       "Row(tweet_id=2600, entity='Borderlands', sentiment='Positive', content='want thank #SSKYWILDKATSSS letting run new Borderlands 3 DLC last night. lot fun!', cleaned_content='want thank SSKYWILDKATSSS letting run new Borderlands 3 DLC last night lot fun')"
      ]
     },
     "execution_count": 20,
     "metadata": {},
     "output_type": "execute_result"
    }
   ],
   "source": [
    "cleaned_tweets.collect()[120]"
   ]
  },
  {
   "cell_type": "code",
   "execution_count": 21,
   "metadata": {},
   "outputs": [
    {
     "name": "stdout",
     "output_type": "stream",
     "text": [
      "+---------------+-----+\n",
      "|sentiment_label|count|\n",
      "+---------------+-----+\n",
      "|            0.0|  188|\n",
      "|            1.0|  172|\n",
      "|            3.0|  110|\n",
      "|            2.0|  168|\n",
      "+---------------+-----+\n",
      "\n",
      "None\n"
     ]
    }
   ],
   "source": [
    "tweets_test = transformer.transform(cleaned_tweets)\n",
    "# print(tweets_test.show(5))"
   ]
  },
  {
   "cell_type": "code",
   "execution_count": 22,
   "metadata": {},
   "outputs": [
    {
     "name": "stdout",
     "output_type": "stream",
     "text": [
      "+---------------+--------------------+\n",
      "|sentiment_label|            features|\n",
      "+---------------+--------------------+\n",
      "|            0.0|(20,[0,2,6,7,8,9,...|\n",
      "|            3.0|(20,[2,3,4,5,8,14...|\n",
      "|            2.0|(20,[1,3,4,8,11,1...|\n",
      "|            1.0|(20,[0,1,2,3,4,5,...|\n",
      "|            1.0|(20,[0,2,3,4,5,6,...|\n",
      "+---------------+--------------------+\n",
      "only showing top 5 rows\n",
      "\n"
     ]
    }
   ],
   "source": [
    "tweets_test = tweets_test.select(['sentiment_label','features'])\n",
    "tweets_test.show(5)"
   ]
  },
  {
   "cell_type": "code",
   "execution_count": 23,
   "metadata": {},
   "outputs": [],
   "source": [
    "predictions = model.transform(tweets_test)\n",
    "predictions = predictions.select(['sentiment_label','prediction'])"
   ]
  },
  {
   "cell_type": "code",
   "execution_count": 24,
   "metadata": {},
   "outputs": [
    {
     "name": "stdout",
     "output_type": "stream",
     "text": [
      "+---------------+----------+\n",
      "|sentiment_label|prediction|\n",
      "+---------------+----------+\n",
      "|            0.0|       2.0|\n",
      "|            3.0|       3.0|\n",
      "|            2.0|       0.0|\n",
      "|            1.0|       1.0|\n",
      "|            1.0|       2.0|\n",
      "|            3.0|       3.0|\n",
      "|            0.0|       1.0|\n",
      "|            3.0|       0.0|\n",
      "|            1.0|       1.0|\n",
      "|            0.0|       0.0|\n",
      "+---------------+----------+\n",
      "only showing top 10 rows\n",
      "\n"
     ]
    }
   ],
   "source": [
    "predictions.show(10)"
   ]
  },
  {
   "cell_type": "code",
   "execution_count": 25,
   "metadata": {},
   "outputs": [
    {
     "name": "stdout",
     "output_type": "stream",
     "text": [
      "Test Error = 0.62069 \n",
      "Test Accuracy = 0.37931 \n"
     ]
    }
   ],
   "source": [
    "accuracy = evaluator.evaluate(predictions)\n",
    "print(\"Test Error = %g \" %(1.0 - accuracy))\n",
    "print(\"Test Accuracy = %g \" %accuracy)"
   ]
  },
  {
   "cell_type": "code",
   "execution_count": null,
   "metadata": {},
   "outputs": [],
   "source": []
  }
 ],
 "metadata": {
  "kernelspec": {
   "display_name": ".venv",
   "language": "python",
   "name": "python3"
  },
  "language_info": {
   "codemirror_mode": {
    "name": "ipython",
    "version": 3
   },
   "file_extension": ".py",
   "mimetype": "text/x-python",
   "name": "python",
   "nbconvert_exporter": "python",
   "pygments_lexer": "ipython3",
   "version": "3.11.1"
  }
 },
 "nbformat": 4,
 "nbformat_minor": 2
}
