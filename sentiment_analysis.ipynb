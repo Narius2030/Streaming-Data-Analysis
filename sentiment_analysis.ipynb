{
 "cells": [
  {
   "cell_type": "code",
   "execution_count": 1,
   "metadata": {},
   "outputs": [],
   "source": [
    "from pyspark.sql import SparkSession\n",
    "from pyspark.sql.types import StructType, StringType, IntegerType \n",
    "from pyspark.sql.functions import *\n",
    "from pyspark.ml.feature import StringIndexer, HashingTF, IDF,Tokenizer, VectorIndexer\n",
    "from pyspark.ml.classification import DecisionTreeClassifier\n",
    "from pyspark.ml.evaluation import MulticlassClassificationEvaluator\n",
    "from preprocessing import TransformText\n",
    "import pandas as pd"
   ]
  },
  {
   "cell_type": "markdown",
   "metadata": {},
   "source": [
    "# Import Data"
   ]
  },
  {
   "cell_type": "code",
   "execution_count": 2,
   "metadata": {},
   "outputs": [],
   "source": [
    "spark = SparkSession.builder.master(\"local[1]\") \\\n",
    "        .appName(\"Sentiment Spark Training\") \\\n",
    "        .getOrCreate()\n",
    "        \n",
    "schema = StructType() \\\n",
    "        .add(\"tweet_id\", IntegerType(), False) \\\n",
    "        .add(\"entity\", StringType(), True) \\\n",
    "        .add(\"sentiment\", StringType(), True)  \\\n",
    "        .add(\"content\", StringType(), True)\n",
    "        \n",
    "tweets = spark.read.option(\"header\", True) \\\n",
    "        .schema(schema) \\\n",
    "        .csv(\"./data/twitter_training.csv\")\n",
    "cleaned_tweets = tweets.withColumn('content', when(isnull(col('content')), \"\") \\\n",
    "                .otherwise(col('content')))"
   ]
  },
  {
   "cell_type": "code",
   "execution_count": 3,
   "metadata": {},
   "outputs": [
    {
     "name": "stdout",
     "output_type": "stream",
     "text": [
      "root\n",
      " |-- tweet_id: integer (nullable = true)\n",
      " |-- entity: string (nullable = true)\n",
      " |-- sentiment: string (nullable = true)\n",
      " |-- content: string (nullable = true)\n",
      "\n",
      "+--------+-----------+---------+--------------------+\n",
      "|tweet_id|     entity|sentiment|             content|\n",
      "+--------+-----------+---------+--------------------+\n",
      "|    2401|Borderlands| Positive|I am coming to th...|\n",
      "|    2401|Borderlands| Positive|im getting on bor...|\n",
      "|    2401|Borderlands| Positive|im coming on bord...|\n",
      "|    2401|Borderlands| Positive|im getting on bor...|\n",
      "|    2401|Borderlands| Positive|im getting into b...|\n",
      "+--------+-----------+---------+--------------------+\n",
      "only showing top 5 rows\n",
      "\n"
     ]
    }
   ],
   "source": [
    "cleaned_tweets.printSchema()\n",
    "cleaned_tweets.show(5)"
   ]
  },
  {
   "cell_type": "code",
   "execution_count": 4,
   "metadata": {},
   "outputs": [
    {
     "name": "stdout",
     "output_type": "stream",
     "text": [
      "Total of tweets:   74681\n",
      "Total of unique entities:   32\n",
      "Total of unique sentiments:   4\n",
      "+----------+\n",
      "| sentiment|\n",
      "+----------+\n",
      "|Irrelevant|\n",
      "|  Positive|\n",
      "|   Neutral|\n",
      "|  Negative|\n",
      "+----------+\n",
      "\n",
      "None\n"
     ]
    }
   ],
   "source": [
    "print(\"Total of tweets:  \", cleaned_tweets.count())\n",
    "print(\"Total of unique entities:  \", cleaned_tweets.select('entity').distinct().count())\n",
    "print(\"Total of unique sentiments:  \", cleaned_tweets.select('sentiment').distinct().count())\n",
    "print(cleaned_tweets.select('sentiment').distinct().show())"
   ]
  },
  {
   "cell_type": "markdown",
   "metadata": {},
   "source": [
    "# Transform Data"
   ]
  },
  {
   "cell_type": "code",
   "execution_count": 5,
   "metadata": {},
   "outputs": [
    {
     "name": "stdout",
     "output_type": "stream",
     "text": [
      "+---------------+-----+\n",
      "|sentiment_label|count|\n",
      "+---------------+-----+\n",
      "|            0.0|22542|\n",
      "|            1.0|20831|\n",
      "|            3.0|12990|\n",
      "|            2.0|18318|\n",
      "+---------------+-----+\n",
      "\n",
      "None\n"
     ]
    }
   ],
   "source": [
    "encoder = StringIndexer(inputCol='sentiment', outputCol='sentiment_label').fit(cleaned_tweets)\n",
    "tweets = encoder.transform(cleaned_tweets)\n",
    "\n",
    "print(tweets.groupBy('sentiment_label').count().show())"
   ]
  },
  {
   "cell_type": "code",
   "execution_count": 6,
   "metadata": {},
   "outputs": [],
   "source": [
    "tokenizer = Tokenizer(inputCol='content', outputCol='words')\n",
    "tokenized_tweets = tokenizer.transform(tweets)\n",
    "\n",
    "hashingTF = HashingTF(inputCol=\"words\", outputCol=\"rawFeatures\", numFeatures=20)\n",
    "featurized_data = hashingTF.transform(tokenized_tweets)\n",
    "\n",
    "idf = IDF(inputCol=\"rawFeatures\", outputCol=\"features\")\n",
    "tfidf_tweets = idf.fit(featurized_data).transform(featurized_data)"
   ]
  },
  {
   "cell_type": "code",
   "execution_count": 7,
   "metadata": {},
   "outputs": [],
   "source": [
    "tweets = tfidf_tweets.select(['sentiment_label', 'features'])\n",
    "\n",
    "featureIndexer = VectorIndexer(inputCol=\"features\", outputCol=\"indexedFeatures\", maxCategories=4).fit(tweets)\n",
    "tweets_train = featureIndexer.transform(tweets)\n",
    "tweets_train = tweets_train.select(['sentiment_label','indexedFeatures'])"
   ]
  },
  {
   "cell_type": "code",
   "execution_count": 8,
   "metadata": {},
   "outputs": [
    {
     "name": "stdout",
     "output_type": "stream",
     "text": [
      "root\n",
      " |-- sentiment_label: double (nullable = false)\n",
      " |-- indexedFeatures: vector (nullable = true)\n",
      "\n",
      "None\n",
      "+---------------+--------------------+\n",
      "|sentiment_label|     indexedFeatures|\n",
      "+---------------+--------------------+\n",
      "|            1.0|(20,[0,1,5,6,8,9,...|\n",
      "|            1.0|(20,[0,1,3,6,11,1...|\n",
      "|            1.0|(20,[0,1,3,9,11,1...|\n",
      "|            1.0|(20,[0,1,3,9,11,1...|\n",
      "|            1.0|(20,[0,1,3,11,12,...|\n",
      "+---------------+--------------------+\n",
      "only showing top 5 rows\n",
      "\n",
      "None\n"
     ]
    }
   ],
   "source": [
    "print(tweets_train.printSchema())\n",
    "print(tweets_train.show(5))"
   ]
  },
  {
   "cell_type": "markdown",
   "metadata": {},
   "source": [
    "# Train model"
   ]
  },
  {
   "cell_type": "code",
   "execution_count": 9,
   "metadata": {},
   "outputs": [],
   "source": [
    "dt = DecisionTreeClassifier(labelCol=\"sentiment_label\", featuresCol=\"indexedFeatures\")\n",
    "model = dt.fit(tweets_train)"
   ]
  },
  {
   "cell_type": "markdown",
   "metadata": {},
   "source": [
    "# Predict and Evaluate"
   ]
  },
  {
   "cell_type": "code",
   "execution_count": 24,
   "metadata": {},
   "outputs": [],
   "source": [
    "tweets_test = spark.read.option(\"header\", True) \\\n",
    "        .schema(schema) \\\n",
    "        .csv(\"./data/twitter_validation.csv\")\n",
    "cleaned_tweets_test = tweets_test.withColumn('content', when(isnull(col('content')), \"\").otherwise(col('content')))"
   ]
  },
  {
   "cell_type": "code",
   "execution_count": 25,
   "metadata": {},
   "outputs": [
    {
     "name": "stdout",
     "output_type": "stream",
     "text": [
      "+--------+---------------+----------+--------------------+\n",
      "|tweet_id|         entity| sentiment|             content|\n",
      "+--------+---------------+----------+--------------------+\n",
      "|     921| AssassinsCreed|   Neutral|Get ready for the...|\n",
      "|    4367|          CS-GO|Irrelevant|friendship ended ...|\n",
      "|    7446|LeagueOfLegends|  Negative|My League of Lege...|\n",
      "|    5417|    Hearthstone|  Positive|Hey guys, I just ...|\n",
      "|    4650|         Google|  Positive|It's great that b...|\n",
      "+--------+---------------+----------+--------------------+\n",
      "only showing top 5 rows\n",
      "\n"
     ]
    }
   ],
   "source": [
    "cleaned_tweets_test.show(5)"
   ]
  },
  {
   "cell_type": "code",
   "execution_count": 26,
   "metadata": {},
   "outputs": [
    {
     "name": "stdout",
     "output_type": "stream",
     "text": [
      "+----------+-----+\n",
      "| sentiment|count|\n",
      "+----------+-----+\n",
      "|Irrelevant|  110|\n",
      "|   Neutral|  188|\n",
      "|  Positive|  172|\n",
      "|  Negative|  168|\n",
      "+----------+-----+\n",
      "\n",
      "None\n"
     ]
    }
   ],
   "source": [
    "# encoder = StringIndexer(inputCol='sentiment', outputCol='sentiment_label').fit(cleaned_tweets_test)\n",
    "encoded_tweets_test = encoder.transform(cleaned_tweets_test)\n",
    "print(encoded_tweets_test.groupBy('sentiment').count().show())"
   ]
  },
  {
   "cell_type": "code",
   "execution_count": 27,
   "metadata": {},
   "outputs": [
    {
     "name": "stdout",
     "output_type": "stream",
     "text": [
      "+---------------+-----+\n",
      "|sentiment_label|count|\n",
      "+---------------+-----+\n",
      "|            0.0|  188|\n",
      "|            1.0|  172|\n",
      "|            3.0|  110|\n",
      "|            2.0|  168|\n",
      "+---------------+-----+\n",
      "\n",
      "None\n"
     ]
    }
   ],
   "source": [
    "transformer = TransformText(spark, \"./data/twitter_validation.csv\")\n",
    "tweets_test = transformer.fit()"
   ]
  },
  {
   "cell_type": "code",
   "execution_count": 35,
   "metadata": {},
   "outputs": [
    {
     "name": "stdout",
     "output_type": "stream",
     "text": [
      "+---------------+--------------------+\n",
      "|sentiment_label|     indexedFeatures|\n",
      "+---------------+--------------------+\n",
      "|            0.0|(20,[0,4,5,6,7,8,...|\n",
      "|            3.0|(20,[2,3,4,5,8,9,...|\n",
      "|            2.0|(20,[1,3,4,5,7,8,...|\n",
      "|            1.0|(20,[0,1,2,3,4,5,...|\n",
      "|            1.0|(20,[0,1,2,3,5,6,...|\n",
      "+---------------+--------------------+\n",
      "only showing top 5 rows\n",
      "\n"
     ]
    }
   ],
   "source": [
    "tweets_test = tweets_test.select(['sentiment_label','indexedFeatures'])\n",
    "tweets_test.show(5)"
   ]
  },
  {
   "cell_type": "code",
   "execution_count": 37,
   "metadata": {},
   "outputs": [],
   "source": [
    "predictions = model.transform(tweets_train)\n",
    "predictions = predictions.select(['sentiment_label','prediction'])"
   ]
  },
  {
   "cell_type": "code",
   "execution_count": 38,
   "metadata": {},
   "outputs": [
    {
     "name": "stdout",
     "output_type": "stream",
     "text": [
      "+---------------+----------+\n",
      "|sentiment_label|prediction|\n",
      "+---------------+----------+\n",
      "|            1.0|       0.0|\n",
      "|            1.0|       1.0|\n",
      "|            1.0|       0.0|\n",
      "|            1.0|       0.0|\n",
      "|            1.0|       1.0|\n",
      "|            1.0|       0.0|\n",
      "|            1.0|       0.0|\n",
      "|            1.0|       0.0|\n",
      "|            1.0|       0.0|\n",
      "|            1.0|       0.0|\n",
      "+---------------+----------+\n",
      "only showing top 10 rows\n",
      "\n"
     ]
    }
   ],
   "source": [
    "predictions.show(10)"
   ]
  },
  {
   "cell_type": "code",
   "execution_count": 39,
   "metadata": {},
   "outputs": [
    {
     "name": "stdout",
     "output_type": "stream",
     "text": [
      "Test Error = 0.66539 \n",
      "Test Accuracy = 0.33461 \n"
     ]
    }
   ],
   "source": [
    "evaluator = MulticlassClassificationEvaluator(\n",
    "    labelCol=\"sentiment_label\", predictionCol=\"prediction\", metricName=\"accuracy\")\n",
    "accuracy = evaluator.evaluate(predictions)\n",
    "print(\"Test Error = %g \" %(1.0 - accuracy))\n",
    "print(\"Test Accuracy = %g \" %accuracy)"
   ]
  },
  {
   "cell_type": "code",
   "execution_count": null,
   "metadata": {},
   "outputs": [],
   "source": []
  }
 ],
 "metadata": {
  "kernelspec": {
   "display_name": ".venv",
   "language": "python",
   "name": "python3"
  },
  "language_info": {
   "codemirror_mode": {
    "name": "ipython",
    "version": 3
   },
   "file_extension": ".py",
   "mimetype": "text/x-python",
   "name": "python",
   "nbconvert_exporter": "python",
   "pygments_lexer": "ipython3",
   "version": "3.11.1"
  }
 },
 "nbformat": 4,
 "nbformat_minor": 2
}
