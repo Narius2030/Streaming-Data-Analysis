{
 "cells": [
  {
   "cell_type": "code",
   "execution_count": 23,
   "metadata": {},
   "outputs": [],
   "source": [
    "from pyspark.sql import SparkSession\n",
    "from pyspark.sql.types import StructType, StringType, IntegerType \n",
    "from pyspark.sql.functions import *\n",
    "from pyspark.ml.feature import StringIndexer, HashingTF, IDF,Tokenizer, VectorIndexer, StopWordsRemover\n",
    "from pyspark.ml.classification import DecisionTreeClassifier\n",
    "from pyspark.ml.evaluation import MulticlassClassificationEvaluator\n",
    "from preprocessing import TransformText, CleanText\n",
    "import pandas as pd"
   ]
  },
  {
   "cell_type": "markdown",
   "metadata": {},
   "source": [
    "# Import Data"
   ]
  },
  {
   "cell_type": "code",
   "execution_count": 24,
   "metadata": {},
   "outputs": [],
   "source": [
    "spark = SparkSession.builder.master(\"local[1]\") \\\n",
    "        .appName(\"Sentiment Spark Training\") \\\n",
    "        .getOrCreate()\n",
    "        \n",
    "schema = StructType() \\\n",
    "        .add(\"tweet_id\", IntegerType(), False) \\\n",
    "        .add(\"entity\", StringType(), True) \\\n",
    "        .add(\"sentiment\", StringType(), True)  \\\n",
    "        .add(\"content\", StringType(), True)\n",
    "        \n",
    "tweets = spark.read.option(\"header\", True) \\\n",
    "        .schema(schema) \\\n",
    "        .csv(\"./data/twitter_training.csv\")\n",
    "cleaned_tweets = tweets.withColumn('content', when(isnull(col('content')), \"\") \\\n",
    "                .otherwise(col('content')))"
   ]
  },
  {
   "cell_type": "code",
   "execution_count": 25,
   "metadata": {},
   "outputs": [
    {
     "name": "stdout",
     "output_type": "stream",
     "text": [
      "root\n",
      " |-- tweet_id: integer (nullable = true)\n",
      " |-- entity: string (nullable = true)\n",
      " |-- sentiment: string (nullable = true)\n",
      " |-- content: string (nullable = true)\n",
      "\n",
      "+--------+-----------+---------+--------------------+\n",
      "|tweet_id|     entity|sentiment|             content|\n",
      "+--------+-----------+---------+--------------------+\n",
      "|    2401|Borderlands| Positive|I am coming to th...|\n",
      "|    2401|Borderlands| Positive|im getting on bor...|\n",
      "|    2401|Borderlands| Positive|im coming on bord...|\n",
      "|    2401|Borderlands| Positive|im getting on bor...|\n",
      "|    2401|Borderlands| Positive|im getting into b...|\n",
      "+--------+-----------+---------+--------------------+\n",
      "only showing top 5 rows\n",
      "\n"
     ]
    }
   ],
   "source": [
    "cleaned_tweets.printSchema()\n",
    "cleaned_tweets.show(5)"
   ]
  },
  {
   "cell_type": "code",
   "execution_count": 26,
   "metadata": {},
   "outputs": [
    {
     "name": "stdout",
     "output_type": "stream",
     "text": [
      "Total of tweets:   74681\n",
      "Total of unique entities:   32\n",
      "Total of unique sentiments:   4\n",
      "+----------+\n",
      "| sentiment|\n",
      "+----------+\n",
      "|Irrelevant|\n",
      "|  Positive|\n",
      "|   Neutral|\n",
      "|  Negative|\n",
      "+----------+\n",
      "\n",
      "None\n"
     ]
    }
   ],
   "source": [
    "print(\"Total of tweets:  \", cleaned_tweets.count())\n",
    "print(\"Total of unique entities:  \", cleaned_tweets.select('entity').distinct().count())\n",
    "print(\"Total of unique sentiments:  \", cleaned_tweets.select('sentiment').distinct().count())\n",
    "print(cleaned_tweets.select('sentiment').distinct().show())"
   ]
  },
  {
   "cell_type": "markdown",
   "metadata": {},
   "source": [
    "# Transform Data"
   ]
  },
  {
   "cell_type": "code",
   "execution_count": 27,
   "metadata": {},
   "outputs": [
    {
     "name": "stdout",
     "output_type": "stream",
     "text": [
      "+---------------+-----+\n",
      "|sentiment_label|count|\n",
      "+---------------+-----+\n",
      "|            0.0|22542|\n",
      "|            1.0|20831|\n",
      "|            3.0|12990|\n",
      "|            2.0|18318|\n",
      "+---------------+-----+\n",
      "\n",
      "None\n"
     ]
    }
   ],
   "source": [
    "encoder = StringIndexer(inputCol='sentiment', outputCol='sentiment_label').fit(cleaned_tweets)\n",
    "tweets = encoder.transform(cleaned_tweets)\n",
    "\n",
    "print(tweets.groupBy('sentiment_label').count().show())"
   ]
  },
  {
   "cell_type": "code",
   "execution_count": 28,
   "metadata": {},
   "outputs": [
    {
     "name": "stdout",
     "output_type": "stream",
     "text": [
      "Row(tweet_id=2401, entity='Borderlands', sentiment='Positive', content='im getting on borderlands and i will kill you all,', sentiment_label=1.0, tokens=['im', 'getting', 'on', 'borderlands', 'and', 'i', 'will', 'kill', 'you', 'all,'])\n"
     ]
    }
   ],
   "source": [
    "stopwords = []\n",
    "with open(file='./data/stopword_en.txt', mode='r') as file:\n",
    "    try:\n",
    "        stopwords = file.readlines()\n",
    "        for idx, word in enumerate(stopwords):\n",
    "            stopwords[idx] = word[:len(word)-1:]\n",
    "    except Exception as ex:\n",
    "        print(ex)\n",
    "tweets = tweets.withColumn('tokens', split('content', ' '))\n",
    "print(tweets.collect()[1])"
   ]
  },
  {
   "cell_type": "code",
   "execution_count": 29,
   "metadata": {},
   "outputs": [],
   "source": [
    "remover = StopWordsRemover(stopWords=stopwords, inputCol=\"tokens\", outputCol=\"stop\")\n",
    "temp = remover.transform(tweets).select('tweet_id','entity','sentiment','sentiment_label', \n",
    "                                          array_join(\"stop\", \" \").alias(\"content\"))"
   ]
  },
  {
   "cell_type": "code",
   "execution_count": 30,
   "metadata": {},
   "outputs": [],
   "source": [
    "temp = temp.withColumn(\n",
    "    'cleaned_content', \n",
    "    translate('content', '!\"#$%&\\'()*+,-./:;<=>?@[\\\\]^_{|}~', '')\n",
    ")\n",
    "temp = temp.withColumn(\n",
    "    \"cleaned_content\",\n",
    "    regexp_replace(regexp_replace(\"cleaned_content\", \"[^\\x00-\\x7F]+\", \"\"), '\"\"', '')\n",
    ")\n",
    "cleaned_tweets = temp.drop('content')"
   ]
  },
  {
   "cell_type": "code",
   "execution_count": 31,
   "metadata": {},
   "outputs": [
    {
     "data": {
      "text/plain": [
       "Row(tweet_id=11106, entity='TomClancysGhostRecon', sentiment='Positive', sentiment_label=1.0, cleaned_content='See  song Im talking smh Tryna play head work ugh gotta wait ')"
      ]
     },
     "execution_count": 31,
     "metadata": {},
     "output_type": "execute_result"
    }
   ],
   "source": [
    "cleaned_tweets.collect()[71840]"
   ]
  },
  {
   "cell_type": "code",
   "execution_count": 32,
   "metadata": {},
   "outputs": [],
   "source": [
    "tokenizer = Tokenizer(inputCol='cleaned_content', outputCol='words')\n",
    "tokenized_tweets = tokenizer.transform(cleaned_tweets)\n",
    "\n",
    "hashingTF = HashingTF(inputCol=\"words\", outputCol=\"raw_features\", numFeatures=20)\n",
    "featurized_data = hashingTF.transform(tokenized_tweets)\n",
    "\n",
    "idf = IDF(inputCol=\"raw_features\", outputCol=\"features\")\n",
    "tfidf_tweets = idf.fit(featurized_data).transform(featurized_data).select(['sentiment_label', 'features'])"
   ]
  },
  {
   "cell_type": "code",
   "execution_count": 33,
   "metadata": {},
   "outputs": [],
   "source": [
    "featureIndexer = VectorIndexer(inputCol=\"features\", outputCol=\"indexed_features\", maxCategories=4).fit(tfidf_tweets)\n",
    "tweets_train = featureIndexer.transform(tfidf_tweets)\n",
    "tweets_train = tweets_train.select(['sentiment_label','indexed_features'])"
   ]
  },
  {
   "cell_type": "code",
   "execution_count": 34,
   "metadata": {},
   "outputs": [
    {
     "name": "stdout",
     "output_type": "stream",
     "text": [
      "root\n",
      " |-- sentiment_label: double (nullable = false)\n",
      " |-- indexed_features: vector (nullable = true)\n",
      "\n",
      "None\n",
      "+---------------+--------------------+\n",
      "|sentiment_label|    indexed_features|\n",
      "+---------------+--------------------+\n",
      "|            1.0|(20,[1,6,9,12],[1...|\n",
      "|            1.0|(20,[0,6,12],[0.8...|\n",
      "|            1.0|(20,[9,11,12],[1....|\n",
      "|            1.0|(20,[0,11,12],[0....|\n",
      "|            1.0|(20,[0,11,12],[0....|\n",
      "+---------------+--------------------+\n",
      "only showing top 5 rows\n",
      "\n",
      "None\n"
     ]
    }
   ],
   "source": [
    "print(tweets_train.printSchema())\n",
    "print(tweets_train.show(5))"
   ]
  },
  {
   "cell_type": "markdown",
   "metadata": {},
   "source": [
    "# Train model"
   ]
  },
  {
   "cell_type": "code",
   "execution_count": 35,
   "metadata": {},
   "outputs": [],
   "source": [
    "dt = DecisionTreeClassifier(labelCol=\"sentiment_label\", featuresCol=\"indexed_features\")\n",
    "model = dt.fit(tweets_train)"
   ]
  },
  {
   "cell_type": "markdown",
   "metadata": {},
   "source": [
    "# Predict and Evaluate"
   ]
  },
  {
   "cell_type": "code",
   "execution_count": 36,
   "metadata": {},
   "outputs": [],
   "source": [
    "tweets_test = spark.read.option(\"header\", True) \\\n",
    "        .schema(schema) \\\n",
    "        .csv(\"./data/twitter_validation.csv\")\n",
    "cleaned_tweets_test = tweets_test.withColumn('content', when(isnull(col('content')), \"\").otherwise(col('content')))"
   ]
  },
  {
   "cell_type": "code",
   "execution_count": 37,
   "metadata": {},
   "outputs": [
    {
     "name": "stdout",
     "output_type": "stream",
     "text": [
      "+--------+---------------+----------+--------------------+\n",
      "|tweet_id|         entity| sentiment|             content|\n",
      "+--------+---------------+----------+--------------------+\n",
      "|     921| AssassinsCreed|   Neutral|Get ready for the...|\n",
      "|    4367|          CS-GO|Irrelevant|friendship ended ...|\n",
      "|    7446|LeagueOfLegends|  Negative|My League of Lege...|\n",
      "|    5417|    Hearthstone|  Positive|Hey guys, I just ...|\n",
      "|    4650|         Google|  Positive|It's great that b...|\n",
      "+--------+---------------+----------+--------------------+\n",
      "only showing top 5 rows\n",
      "\n"
     ]
    }
   ],
   "source": [
    "cleaned_tweets_test.show(5)"
   ]
  },
  {
   "cell_type": "code",
   "execution_count": 38,
   "metadata": {},
   "outputs": [
    {
     "name": "stdout",
     "output_type": "stream",
     "text": [
      "+----------+-----+\n",
      "| sentiment|count|\n",
      "+----------+-----+\n",
      "|Irrelevant|  110|\n",
      "|   Neutral|  188|\n",
      "|  Positive|  172|\n",
      "|  Negative|  168|\n",
      "+----------+-----+\n",
      "\n",
      "None\n"
     ]
    }
   ],
   "source": [
    "encoded_tweets_test = encoder.transform(cleaned_tweets_test)\n",
    "print(encoded_tweets_test.groupBy('sentiment').count().show())"
   ]
  },
  {
   "cell_type": "code",
   "execution_count": 39,
   "metadata": {},
   "outputs": [
    {
     "ename": "IllegalArgumentException",
     "evalue": "requirement failed: Input type must be array<string> but got string.",
     "output_type": "error",
     "traceback": [
      "\u001b[1;31m---------------------------------------------------------------------------\u001b[0m",
      "\u001b[1;31mIllegalArgumentException\u001b[0m                  Traceback (most recent call last)",
      "Cell \u001b[1;32mIn[39], line 3\u001b[0m\n\u001b[0;32m      1\u001b[0m cleaner \u001b[38;5;241m=\u001b[39m CleanText(encoded_tweets_test)\n\u001b[0;32m      2\u001b[0m stopwords \u001b[38;5;241m=\u001b[39m cleaner\u001b[38;5;241m.\u001b[39mget_stopwords(\u001b[38;5;124m'\u001b[39m\u001b[38;5;124m./data/stopword_en.txt\u001b[39m\u001b[38;5;124m'\u001b[39m)\n\u001b[1;32m----> 3\u001b[0m temp \u001b[38;5;241m=\u001b[39m \u001b[43mcleaner\u001b[49m\u001b[38;5;241;43m.\u001b[39;49m\u001b[43mremove_stopwords\u001b[49m\u001b[43m(\u001b[49m\u001b[43mstopwords\u001b[49m\u001b[43m,\u001b[49m\u001b[43m \u001b[49m\u001b[38;5;124;43m'\u001b[39;49m\u001b[38;5;124;43mcontent\u001b[39;49m\u001b[38;5;124;43m'\u001b[39;49m\u001b[43m)\u001b[49m\n\u001b[0;32m      4\u001b[0m temp \u001b[38;5;241m=\u001b[39m cleaner\u001b[38;5;241m.\u001b[39mremove_redudance(\u001b[38;5;124m'\u001b[39m\u001b[38;5;124mcontent\u001b[39m\u001b[38;5;124m'\u001b[39m)\n",
      "File \u001b[1;32md:\\Programming\\Twitter-Sentiment-Analysis\\preprocessing.py:76\u001b[0m, in \u001b[0;36mCleanText.remove_stopwords\u001b[1;34m(self, stopwords, inputCol)\u001b[0m\n\u001b[0;32m     74\u001b[0m \u001b[38;5;28;01mdef\u001b[39;00m \u001b[38;5;21mremove_stopwords\u001b[39m(\u001b[38;5;28mself\u001b[39m, stopwords:\u001b[38;5;28mlist\u001b[39m, inputCol:\u001b[38;5;28mstr\u001b[39m) \u001b[38;5;241m-\u001b[39m\u001b[38;5;241m>\u001b[39m DataFrame:\n\u001b[0;32m     75\u001b[0m     remover \u001b[38;5;241m=\u001b[39m StopWordsRemover(stopWords\u001b[38;5;241m=\u001b[39mstopwords, inputCol\u001b[38;5;241m=\u001b[39minputCol, outputCol\u001b[38;5;241m=\u001b[39m\u001b[38;5;124m\"\u001b[39m\u001b[38;5;124mstop\u001b[39m\u001b[38;5;124m\"\u001b[39m)\n\u001b[1;32m---> 76\u001b[0m     temp \u001b[38;5;241m=\u001b[39m \u001b[43mremover\u001b[49m\u001b[38;5;241;43m.\u001b[39;49m\u001b[43mtransform\u001b[49m\u001b[43m(\u001b[49m\u001b[38;5;28;43mself\u001b[39;49m\u001b[38;5;241;43m.\u001b[39;49m\u001b[43mtweets\u001b[49m\u001b[43m)\u001b[49m\u001b[38;5;241m.\u001b[39mselect(\u001b[38;5;124m'\u001b[39m\u001b[38;5;124m*\u001b[39m\u001b[38;5;124m'\u001b[39m, array_join(\u001b[38;5;124m\"\u001b[39m\u001b[38;5;124mstop\u001b[39m\u001b[38;5;124m\"\u001b[39m, \u001b[38;5;124m\"\u001b[39m\u001b[38;5;124m \u001b[39m\u001b[38;5;124m\"\u001b[39m)\u001b[38;5;241m.\u001b[39malias(\u001b[38;5;124m\"\u001b[39m\u001b[38;5;124mcontent\u001b[39m\u001b[38;5;124m\"\u001b[39m))\n\u001b[0;32m     77\u001b[0m     \u001b[38;5;28;01mreturn\u001b[39;00m temp\n",
      "File \u001b[1;32md:\\Programming\\Twitter-Sentiment-Analysis\\.venv\\Lib\\site-packages\\pyspark\\ml\\base.py:262\u001b[0m, in \u001b[0;36mTransformer.transform\u001b[1;34m(self, dataset, params)\u001b[0m\n\u001b[0;32m    260\u001b[0m         \u001b[38;5;28;01mreturn\u001b[39;00m \u001b[38;5;28mself\u001b[39m\u001b[38;5;241m.\u001b[39mcopy(params)\u001b[38;5;241m.\u001b[39m_transform(dataset)\n\u001b[0;32m    261\u001b[0m     \u001b[38;5;28;01melse\u001b[39;00m:\n\u001b[1;32m--> 262\u001b[0m         \u001b[38;5;28;01mreturn\u001b[39;00m \u001b[38;5;28;43mself\u001b[39;49m\u001b[38;5;241;43m.\u001b[39;49m\u001b[43m_transform\u001b[49m\u001b[43m(\u001b[49m\u001b[43mdataset\u001b[49m\u001b[43m)\u001b[49m\n\u001b[0;32m    263\u001b[0m \u001b[38;5;28;01melse\u001b[39;00m:\n\u001b[0;32m    264\u001b[0m     \u001b[38;5;28;01mraise\u001b[39;00m \u001b[38;5;167;01mTypeError\u001b[39;00m(\u001b[38;5;124m\"\u001b[39m\u001b[38;5;124mParams must be a param map but got \u001b[39m\u001b[38;5;132;01m%s\u001b[39;00m\u001b[38;5;124m.\u001b[39m\u001b[38;5;124m\"\u001b[39m \u001b[38;5;241m%\u001b[39m \u001b[38;5;28mtype\u001b[39m(params))\n",
      "File \u001b[1;32md:\\Programming\\Twitter-Sentiment-Analysis\\.venv\\Lib\\site-packages\\pyspark\\ml\\wrapper.py:398\u001b[0m, in \u001b[0;36mJavaTransformer._transform\u001b[1;34m(self, dataset)\u001b[0m\n\u001b[0;32m    395\u001b[0m \u001b[38;5;28;01massert\u001b[39;00m \u001b[38;5;28mself\u001b[39m\u001b[38;5;241m.\u001b[39m_java_obj \u001b[38;5;129;01mis\u001b[39;00m \u001b[38;5;129;01mnot\u001b[39;00m \u001b[38;5;28;01mNone\u001b[39;00m\n\u001b[0;32m    397\u001b[0m \u001b[38;5;28mself\u001b[39m\u001b[38;5;241m.\u001b[39m_transfer_params_to_java()\n\u001b[1;32m--> 398\u001b[0m \u001b[38;5;28;01mreturn\u001b[39;00m DataFrame(\u001b[38;5;28;43mself\u001b[39;49m\u001b[38;5;241;43m.\u001b[39;49m\u001b[43m_java_obj\u001b[49m\u001b[38;5;241;43m.\u001b[39;49m\u001b[43mtransform\u001b[49m\u001b[43m(\u001b[49m\u001b[43mdataset\u001b[49m\u001b[38;5;241;43m.\u001b[39;49m\u001b[43m_jdf\u001b[49m\u001b[43m)\u001b[49m, dataset\u001b[38;5;241m.\u001b[39msparkSession)\n",
      "File \u001b[1;32md:\\Programming\\Twitter-Sentiment-Analysis\\.venv\\Lib\\site-packages\\py4j\\java_gateway.py:1322\u001b[0m, in \u001b[0;36mJavaMember.__call__\u001b[1;34m(self, *args)\u001b[0m\n\u001b[0;32m   1316\u001b[0m command \u001b[38;5;241m=\u001b[39m proto\u001b[38;5;241m.\u001b[39mCALL_COMMAND_NAME \u001b[38;5;241m+\u001b[39m\\\n\u001b[0;32m   1317\u001b[0m     \u001b[38;5;28mself\u001b[39m\u001b[38;5;241m.\u001b[39mcommand_header \u001b[38;5;241m+\u001b[39m\\\n\u001b[0;32m   1318\u001b[0m     args_command \u001b[38;5;241m+\u001b[39m\\\n\u001b[0;32m   1319\u001b[0m     proto\u001b[38;5;241m.\u001b[39mEND_COMMAND_PART\n\u001b[0;32m   1321\u001b[0m answer \u001b[38;5;241m=\u001b[39m \u001b[38;5;28mself\u001b[39m\u001b[38;5;241m.\u001b[39mgateway_client\u001b[38;5;241m.\u001b[39msend_command(command)\n\u001b[1;32m-> 1322\u001b[0m return_value \u001b[38;5;241m=\u001b[39m \u001b[43mget_return_value\u001b[49m\u001b[43m(\u001b[49m\n\u001b[0;32m   1323\u001b[0m \u001b[43m    \u001b[49m\u001b[43manswer\u001b[49m\u001b[43m,\u001b[49m\u001b[43m \u001b[49m\u001b[38;5;28;43mself\u001b[39;49m\u001b[38;5;241;43m.\u001b[39;49m\u001b[43mgateway_client\u001b[49m\u001b[43m,\u001b[49m\u001b[43m \u001b[49m\u001b[38;5;28;43mself\u001b[39;49m\u001b[38;5;241;43m.\u001b[39;49m\u001b[43mtarget_id\u001b[49m\u001b[43m,\u001b[49m\u001b[43m \u001b[49m\u001b[38;5;28;43mself\u001b[39;49m\u001b[38;5;241;43m.\u001b[39;49m\u001b[43mname\u001b[49m\u001b[43m)\u001b[49m\n\u001b[0;32m   1325\u001b[0m \u001b[38;5;28;01mfor\u001b[39;00m temp_arg \u001b[38;5;129;01min\u001b[39;00m temp_args:\n\u001b[0;32m   1326\u001b[0m     \u001b[38;5;28;01mif\u001b[39;00m \u001b[38;5;28mhasattr\u001b[39m(temp_arg, \u001b[38;5;124m\"\u001b[39m\u001b[38;5;124m_detach\u001b[39m\u001b[38;5;124m\"\u001b[39m):\n",
      "File \u001b[1;32md:\\Programming\\Twitter-Sentiment-Analysis\\.venv\\Lib\\site-packages\\pyspark\\errors\\exceptions\\captured.py:185\u001b[0m, in \u001b[0;36mcapture_sql_exception.<locals>.deco\u001b[1;34m(*a, **kw)\u001b[0m\n\u001b[0;32m    181\u001b[0m converted \u001b[38;5;241m=\u001b[39m convert_exception(e\u001b[38;5;241m.\u001b[39mjava_exception)\n\u001b[0;32m    182\u001b[0m \u001b[38;5;28;01mif\u001b[39;00m \u001b[38;5;129;01mnot\u001b[39;00m \u001b[38;5;28misinstance\u001b[39m(converted, UnknownException):\n\u001b[0;32m    183\u001b[0m     \u001b[38;5;66;03m# Hide where the exception came from that shows a non-Pythonic\u001b[39;00m\n\u001b[0;32m    184\u001b[0m     \u001b[38;5;66;03m# JVM exception message.\u001b[39;00m\n\u001b[1;32m--> 185\u001b[0m     \u001b[38;5;28;01mraise\u001b[39;00m converted \u001b[38;5;28;01mfrom\u001b[39;00m \u001b[38;5;28;01mNone\u001b[39;00m\n\u001b[0;32m    186\u001b[0m \u001b[38;5;28;01melse\u001b[39;00m:\n\u001b[0;32m    187\u001b[0m     \u001b[38;5;28;01mraise\u001b[39;00m\n",
      "\u001b[1;31mIllegalArgumentException\u001b[0m: requirement failed: Input type must be array<string> but got string."
     ]
    }
   ],
   "source": [
    "cleaner = CleanText(encoded_tweets_test)\n",
    "stopwords = cleaner.get_stopwords('./data/stopword_en.txt')\n",
    "temp = cleaner.remove_stopwords(stopwords, 'content')\n",
    "temp = cleaner.remove_redudance('content')"
   ]
  },
  {
   "cell_type": "code",
   "execution_count": null,
   "metadata": {},
   "outputs": [
    {
     "name": "stdout",
     "output_type": "stream",
     "text": [
      "+---------------+-----+\n",
      "|sentiment_label|count|\n",
      "+---------------+-----+\n",
      "|            0.0|  188|\n",
      "|            1.0|  172|\n",
      "|            3.0|  110|\n",
      "|            2.0|  168|\n",
      "+---------------+-----+\n",
      "\n",
      "None\n"
     ]
    }
   ],
   "source": [
    "transformer = TransformText(spark, \"./data/twitter_validation.csv\")\n",
    "tweets_test = transformer.fit()"
   ]
  },
  {
   "cell_type": "code",
   "execution_count": null,
   "metadata": {},
   "outputs": [
    {
     "name": "stdout",
     "output_type": "stream",
     "text": [
      "+---------------+--------------------+\n",
      "|sentiment_label|    indexed_features|\n",
      "+---------------+--------------------+\n",
      "|            0.0|(20,[0,4,5,6,7,8,...|\n",
      "|            3.0|(20,[2,3,4,5,8,9,...|\n",
      "|            2.0|(20,[1,3,4,5,7,8,...|\n",
      "|            1.0|(20,[0,1,2,3,4,5,...|\n",
      "|            1.0|(20,[0,1,2,3,5,6,...|\n",
      "+---------------+--------------------+\n",
      "only showing top 5 rows\n",
      "\n"
     ]
    }
   ],
   "source": [
    "tweets_test = tweets_test.select(['sentiment_label','indexed_features'])\n",
    "tweets_test.show(5)"
   ]
  },
  {
   "cell_type": "code",
   "execution_count": null,
   "metadata": {},
   "outputs": [],
   "source": [
    "predictions = model.transform(tweets_train)\n",
    "predictions = predictions.select(['sentiment_label','prediction'])"
   ]
  },
  {
   "cell_type": "code",
   "execution_count": null,
   "metadata": {},
   "outputs": [
    {
     "name": "stdout",
     "output_type": "stream",
     "text": [
      "+---------------+----------+\n",
      "|sentiment_label|prediction|\n",
      "+---------------+----------+\n",
      "|            1.0|       0.0|\n",
      "|            1.0|       1.0|\n",
      "|            1.0|       1.0|\n",
      "|            1.0|       2.0|\n",
      "|            1.0|       1.0|\n",
      "|            1.0|       0.0|\n",
      "|            1.0|       0.0|\n",
      "|            1.0|       0.0|\n",
      "|            1.0|       0.0|\n",
      "|            1.0|       0.0|\n",
      "+---------------+----------+\n",
      "only showing top 10 rows\n",
      "\n"
     ]
    }
   ],
   "source": [
    "predictions.show(10)"
   ]
  },
  {
   "cell_type": "code",
   "execution_count": null,
   "metadata": {},
   "outputs": [
    {
     "name": "stdout",
     "output_type": "stream",
     "text": [
      "Test Error = 0.655923 \n",
      "Test Accuracy = 0.344077 \n"
     ]
    }
   ],
   "source": [
    "evaluator = MulticlassClassificationEvaluator(\n",
    "    labelCol=\"sentiment_label\", predictionCol=\"prediction\", metricName=\"accuracy\")\n",
    "accuracy = evaluator.evaluate(predictions)\n",
    "print(\"Test Error = %g \" %(1.0 - accuracy))\n",
    "print(\"Test Accuracy = %g \" %accuracy)"
   ]
  },
  {
   "cell_type": "code",
   "execution_count": null,
   "metadata": {},
   "outputs": [],
   "source": []
  }
 ],
 "metadata": {
  "kernelspec": {
   "display_name": ".venv",
   "language": "python",
   "name": "python3"
  },
  "language_info": {
   "codemirror_mode": {
    "name": "ipython",
    "version": 3
   },
   "file_extension": ".py",
   "mimetype": "text/x-python",
   "name": "python",
   "nbconvert_exporter": "python",
   "pygments_lexer": "ipython3",
   "version": "3.11.1"
  }
 },
 "nbformat": 4,
 "nbformat_minor": 2
}
